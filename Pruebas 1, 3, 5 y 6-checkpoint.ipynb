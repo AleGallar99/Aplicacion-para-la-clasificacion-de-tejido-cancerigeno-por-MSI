{
 "cells": [
  {
   "cell_type": "markdown",
   "metadata": {},
   "source": [
    "## Pruebas 1, 3 y 5. Analisis de la clasificación de anotaciones patológicas indefinidas de datos adquiridos por MSI de muestras de tejido cancerígeno.\n",
    "\n",
    "Explicación detallada en la memoria del TFG: APLICACION BASADA EN RED NEURONAL PARA DETERMINAR AUTOMATICAMENTE REGIONES CANCERÍGENAS EN MUESTRAS DE TEJIDO DE CÁNCER COLORRECTAL DETERMINADAS POR MSI.\n",
    "\n",
    "Autor: Alejandro Gallar\n",
    "\n",
    "Tutor: Pere Ràfols\n",
    "\n",
    "Grado: Ingeniería biomédica"
   ]
  },
  {
   "cell_type": "markdown",
   "metadata": {},
   "source": [
    "#### Importación de los datos\n"
   ]
  },
  {
   "cell_type": "code",
   "execution_count": 1,
   "metadata": {},
   "outputs": [],
   "source": [
    "import pandas as pd\n",
    "import pyreadr as pr\n",
    "import numpy as np\n",
    "from sklearn import metrics\n",
    "from sklearn.utils import shuffle\n",
    "from sklearn.preprocessing import MinMaxScaler"
   ]
  },
  {
   "cell_type": "markdown",
   "metadata": {},
   "source": [
    "Funcion para leer los datos .rds a un DataFrame de la librería pandas utilizando la librería pyreadr"
   ]
  },
  {
   "cell_type": "code",
   "execution_count": 2,
   "metadata": {},
   "outputs": [],
   "source": [
    "def dataRead(dataframe):\n",
    "    i = 0\n",
    "    ret = []\n",
    "    for x in dataframe:\n",
    "        ret.append(pr.read_r('C:/Users/Alejandro/Desktop/4.2/TFG/myairbridge-UNJOFrwam/' + x)[None])\n",
    "        i = i + 1\n",
    "    return ret"
   ]
  },
  {
   "cell_type": "markdown",
   "metadata": {},
   "source": [
    "Pasando por parametro una lista con los paths correspondientes la función devuelve otra lista con los datos en forma matricial (pandas)"
   ]
  },
  {
   "cell_type": "code",
   "execution_count": 3,
   "metadata": {},
   "outputs": [],
   "source": [
    "paths_intensities = ['CRC11-b$/CRC11-b$intensity.rds','CRC1-4_b$/CRC1-4_b$intensity.rds','CRC3-a$/CRC3-a$intensity.rds', \n",
    "         'CRC3-b$/CRC3-b$intensity.rds','CRC12-b$/CRC12-b$intensity.rds','CRC9-b$/CRC9-b$intensity.rds',\n",
    "         'CRC12-a$/CRC12-a$intensity.rds','CRC5-a$/CRC5-a$intensity.rds','CRC6-b$/CRC6-b$intensity.rds','CRC6-a$/CRC6-a$intensity.rds',\n",
    "         'CRC7-a$/CRC7-a$intensity.rds','CRC7-b$/CRC7-b$intensity.rds','CRC4-b$/CRC4-b$intensity.rds',\n",
    "         'CRC9-a$/CRC9-a$intensity.rds','CRC4-a$/CRC4-a$intensity.rds',\n",
    "         'CRC10-b$/CRC10-b$intensity.rds','CRC11-a$/CRC11-a$intensity.rds','CRC1-4_a$/CRC1-4_a$intensity.rds','CRC8-3_b$/CRC8-3_b$intensity.rds',\n",
    "         'CRC10-a$/CRC10-a$intensity.rds']\n",
    "\n",
    "paths_rois = ['CRC11-b$/CRC11-b$ROIs.rds','CRC1-4_b$/CRC1-4_b$ROIs.rds','CRC3-a$/CRC3-a$ROIs.rds', 'CRC3-b$/CRC3-b$ROIs.rds',\n",
    "             'CRC12-b$/CRC12-b$ROIs.rds','CRC9-b$/CRC9-b$ROIs.rds','CRC12-a$/CRC12-a$ROIs.rds','CRC5-a$/CRC5-a$ROIs.rds',\n",
    "             'CRC6-a$/CRC6-a$ROIs.rds', 'CRC6-b$/CRC6-b$ROIs.rds','CRC7-a$/CRC7-a$ROIs.rds','CRC7-b$/CRC7-b$ROIs.rds',\n",
    "             'CRC4-b$/CRC4-b$ROIs.rds','CRC9-a$/CRC9-a$ROIs.rds','CRC4-a$/CRC4-a$ROIs.rds',\n",
    "             'CRC10-b$/CRC10-b$ROIs.rds', 'CRC11-a$/CRC11-a$ROIs.rds','CRC1-4_a$/CRC1-4_a$ROIs.rds','CRC8-3_b$/CRC8-3_b$ROIs.rds'\n",
    "              ,'CRC10-a$/CRC10-a$ROIs.rds']\n",
    "training = dataRead(paths_intensities)\n",
    "labels = dataRead(paths_rois)\n"
   ]
  },
  {
   "cell_type": "markdown",
   "metadata": {},
   "source": [
    "Como el modelo es secuencial hemos de concatenar todas las matrices para que el sistema entienda la entrada como pixeles independientes"
   ]
  },
  {
   "cell_type": "code",
   "execution_count": 4,
   "metadata": {},
   "outputs": [
    {
     "data": {
      "text/plain": [
       "((173773, 1236), (173773, 1))"
      ]
     },
     "execution_count": 4,
     "metadata": {},
     "output_type": "execute_result"
    }
   ],
   "source": [
    "training_dataset = pd.concat(training, ignore_index = True)\n",
    "labels_dataset = pd.concat(labels, ignore_index = True)\n",
    "training_dataset.shape, labels_dataset.shape"
   ]
  },
  {
   "cell_type": "markdown",
   "metadata": {},
   "source": [
    "Descomentando las siguientes lineas se pueden observar los datos que serviran para entrenar el modelo predictivo"
   ]
  },
  {
   "cell_type": "code",
   "execution_count": 5,
   "metadata": {},
   "outputs": [],
   "source": [
    "# training_dataset\n",
    "# labels_dataset"
   ]
  },
  {
   "cell_type": "markdown",
   "metadata": {},
   "source": [
    "Funcion para indicar el numero de las variables categoricas en el mismo dataset"
   ]
  },
  {
   "cell_type": "code",
   "execution_count": 6,
   "metadata": {},
   "outputs": [],
   "source": [
    "def Categorical_to_numerical(labels):\n",
    "    i=0\n",
    "    for x in labels['ROIs']:\n",
    "       \n",
    "        if x == 'N': labels['Code'].array[i]=0\n",
    "        if x == 'LG': labels['Code'].array[i]=1\n",
    "        if x == 'HG': labels['Code'].array[i]=2\n",
    "        if x == 'PI': labels['Code'].array[i]=3\n",
    "        if x == 'TorPI': labels['Code'].array[i]=4\n",
    "        if x == 'TorHG': labels['Code'].array[i]=5\n",
    "        if x == 'T': labels['Code'].array[i]=6\n",
    "        i = i + 1\n",
    "    "
   ]
  },
  {
   "cell_type": "code",
   "execution_count": 7,
   "metadata": {},
   "outputs": [],
   "source": [
    "labels_dataset.columns = ['ROIs']\n",
    "labels_dataset['Code'] = 0\n",
    "Categorical_to_numerical(labels_dataset)"
   ]
  },
  {
   "cell_type": "markdown",
   "metadata": {},
   "source": [
    "Descomentar para observar labels numericos"
   ]
  },
  {
   "cell_type": "code",
   "execution_count": 8,
   "metadata": {},
   "outputs": [
    {
     "data": {
      "text/html": [
       "<div>\n",
       "<style scoped>\n",
       "    .dataframe tbody tr th:only-of-type {\n",
       "        vertical-align: middle;\n",
       "    }\n",
       "\n",
       "    .dataframe tbody tr th {\n",
       "        vertical-align: top;\n",
       "    }\n",
       "\n",
       "    .dataframe thead th {\n",
       "        text-align: right;\n",
       "    }\n",
       "</style>\n",
       "<table border=\"1\" class=\"dataframe\">\n",
       "  <thead>\n",
       "    <tr style=\"text-align: right;\">\n",
       "      <th></th>\n",
       "      <th>ROIs</th>\n",
       "      <th>Code</th>\n",
       "    </tr>\n",
       "  </thead>\n",
       "  <tbody>\n",
       "    <tr>\n",
       "      <th>0</th>\n",
       "      <td>N</td>\n",
       "      <td>0</td>\n",
       "    </tr>\n",
       "    <tr>\n",
       "      <th>1</th>\n",
       "      <td>N</td>\n",
       "      <td>0</td>\n",
       "    </tr>\n",
       "    <tr>\n",
       "      <th>2</th>\n",
       "      <td>N</td>\n",
       "      <td>0</td>\n",
       "    </tr>\n",
       "    <tr>\n",
       "      <th>3</th>\n",
       "      <td>N</td>\n",
       "      <td>0</td>\n",
       "    </tr>\n",
       "    <tr>\n",
       "      <th>4</th>\n",
       "      <td>N</td>\n",
       "      <td>0</td>\n",
       "    </tr>\n",
       "    <tr>\n",
       "      <th>...</th>\n",
       "      <td>...</td>\n",
       "      <td>...</td>\n",
       "    </tr>\n",
       "    <tr>\n",
       "      <th>173768</th>\n",
       "      <td>T</td>\n",
       "      <td>6</td>\n",
       "    </tr>\n",
       "    <tr>\n",
       "      <th>173769</th>\n",
       "      <td>T</td>\n",
       "      <td>6</td>\n",
       "    </tr>\n",
       "    <tr>\n",
       "      <th>173770</th>\n",
       "      <td>T</td>\n",
       "      <td>6</td>\n",
       "    </tr>\n",
       "    <tr>\n",
       "      <th>173771</th>\n",
       "      <td>T</td>\n",
       "      <td>6</td>\n",
       "    </tr>\n",
       "    <tr>\n",
       "      <th>173772</th>\n",
       "      <td>T</td>\n",
       "      <td>6</td>\n",
       "    </tr>\n",
       "  </tbody>\n",
       "</table>\n",
       "<p>173773 rows × 2 columns</p>\n",
       "</div>"
      ],
      "text/plain": [
       "       ROIs  Code\n",
       "0         N     0\n",
       "1         N     0\n",
       "2         N     0\n",
       "3         N     0\n",
       "4         N     0\n",
       "...     ...   ...\n",
       "173768    T     6\n",
       "173769    T     6\n",
       "173770    T     6\n",
       "173771    T     6\n",
       "173772    T     6\n",
       "\n",
       "[173773 rows x 2 columns]"
      ]
     },
     "execution_count": 8,
     "metadata": {},
     "output_type": "execute_result"
    }
   ],
   "source": [
    "labels_dataset"
   ]
  },
  {
   "cell_type": "markdown",
   "metadata": {},
   "source": [
    "Hemos de transformar los datos basados en pandas a arreglos numpy ya que es el formato que acepta este modelo"
   ]
  },
  {
   "cell_type": "code",
   "execution_count": 9,
   "metadata": {},
   "outputs": [
    {
     "data": {
      "text/plain": [
       "(173773, 1236)"
      ]
     },
     "execution_count": 9,
     "metadata": {},
     "output_type": "execute_result"
    }
   ],
   "source": [
    "dfx = np.array(training_dataset)\n",
    "dfx.shape"
   ]
  },
  {
   "cell_type": "code",
   "execution_count": 10,
   "metadata": {
    "scrolled": true
   },
   "outputs": [
    {
     "data": {
      "text/plain": [
       "(173773,)"
      ]
     },
     "execution_count": 10,
     "metadata": {},
     "output_type": "execute_result"
    }
   ],
   "source": [
    "dfy = np.array(labels_dataset['Code'])\n",
    "dfy.shape"
   ]
  },
  {
   "cell_type": "markdown",
   "metadata": {},
   "source": [
    "Mezclar los datos aporta mejoras en el modelo ya que no tiene en cuenta patrones de posición (la precisión del modelo disminuye en gran cantidad sin este paso)"
   ]
  },
  {
   "cell_type": "code",
   "execution_count": 11,
   "metadata": {},
   "outputs": [],
   "source": [
    "dfx, dfy = shuffle(dfx, dfy)"
   ]
  },
  {
   "cell_type": "markdown",
   "metadata": {},
   "source": [
    "Para disminuir el peso que portan los datos máximos y mínimos lo mejor es normalizar o escalar los datos"
   ]
  },
  {
   "cell_type": "code",
   "execution_count": 12,
   "metadata": {
    "scrolled": false
   },
   "outputs": [
    {
     "data": {
      "text/plain": [
       "array([[0.05147187, 0.01416554, 0.00283611, ..., 0.04777579, 0.03546937,\n",
       "        0.04198045],\n",
       "       [0.00105948, 0.00574006, 0.00759345, ..., 0.10753715, 0.11634156,\n",
       "        0.12872525],\n",
       "       [0.00556229, 0.01760622, 0.06724042, ..., 0.03264309, 0.0071919 ,\n",
       "        0.05430114],\n",
       "       ...,\n",
       "       [0.01893829, 0.01715306, 0.00766664, ..., 0.05047892, 0.02727288,\n",
       "        0.13068041],\n",
       "       [0.01964185, 0.01636422, 0.00634922, ..., 0.04883591, 0.04519677,\n",
       "        0.04552783],\n",
       "       [0.01032998, 0.01701879, 0.00078679, ..., 0.03814601, 0.03035164,\n",
       "        0.08317979]])"
      ]
     },
     "execution_count": 12,
     "metadata": {},
     "output_type": "execute_result"
    }
   ],
   "source": [
    "scaler = MinMaxScaler(feature_range=(0,1))\n",
    "scaled_dfx = scaler.fit_transform(dfx)\n",
    "scaled_dfx"
   ]
  },
  {
   "cell_type": "markdown",
   "metadata": {},
   "source": [
    "### Creación del modelo predictivo"
   ]
  },
  {
   "cell_type": "code",
   "execution_count": 13,
   "metadata": {},
   "outputs": [],
   "source": [
    "import tensorflow as tf\n",
    "from tensorflow import keras\n",
    "from tensorflow.keras.models import Sequential\n",
    "from tensorflow.keras.layers import Dense, Activation\n",
    "from tensorflow.keras.optimizers import Adam\n",
    "from tensorflow.keras.metrics import categorical_crossentropy"
   ]
  },
  {
   "cell_type": "markdown",
   "metadata": {},
   "source": [
    "Utilizando el modelo secuencial podemos determinar pixeles individualmente y es ciertamente mejor soportados por maquinas con cualidades medias, el modelo esta formado por tres capas neuronales con una salida binaria de 2 neuronas (pixel cancerígeno o no) en la primera capa es necesario especificar la forma de los datos de entrada y en todas las capas es necesario determinar el modo de activación de la capa."
   ]
  },
  {
   "cell_type": "code",
   "execution_count": 14,
   "metadata": {},
   "outputs": [],
   "source": [
    "model = Sequential([\n",
    "    Dense(units = 64, input_shape = (1236,), activation = 'relu'),\n",
    "    Dense(units = 128, activation = 'relu'),\n",
    "    Dense(units = 7, activation = 'softmax')\n",
    "\n",
    "])"
   ]
  },
  {
   "cell_type": "markdown",
   "metadata": {},
   "source": [
    "Es necesario determinar el optimizador y el tipo de perdida (binary_crossentropy también sirve ya que la salida es binaria, pero con peores resultados) y la métrica que refiere al tipo de determinación en este caso precisión."
   ]
  },
  {
   "cell_type": "code",
   "execution_count": 15,
   "metadata": {},
   "outputs": [],
   "source": [
    "model.compile(optimizer = Adam(learning_rate = 0.01), loss = 'sparse_categorical_crossentropy', metrics = ['accuracy'])"
   ]
  },
  {
   "cell_type": "markdown",
   "metadata": {},
   "source": [
    "Introducimos los datos en el modelo con un set de validacion del 5% de los datos la cantidad de datos de entrada es de 250 y se realizan 10 vueltas de entrenamiento."
   ]
  },
  {
   "cell_type": "code",
   "execution_count": 16,
   "metadata": {
    "scrolled": true
   },
   "outputs": [
    {
     "name": "stdout",
     "output_type": "stream",
     "text": [
      "Epoch 1/10\n",
      "166/166 - 5s - loss: 0.5126 - accuracy: 0.8201 - val_loss: 0.3805 - val_accuracy: 0.8625\n",
      "Epoch 2/10\n",
      "166/166 - 2s - loss: 0.2410 - accuracy: 0.9122 - val_loss: 0.2369 - val_accuracy: 0.9089\n",
      "Epoch 3/10\n",
      "166/166 - 2s - loss: 0.1894 - accuracy: 0.9310 - val_loss: 0.2309 - val_accuracy: 0.9117\n",
      "Epoch 4/10\n",
      "166/166 - 2s - loss: 0.1636 - accuracy: 0.9399 - val_loss: 0.1668 - val_accuracy: 0.9396\n",
      "Epoch 5/10\n",
      "166/166 - 2s - loss: 0.1517 - accuracy: 0.9444 - val_loss: 0.1692 - val_accuracy: 0.9412\n",
      "Epoch 6/10\n",
      "166/166 - 2s - loss: 0.1338 - accuracy: 0.9510 - val_loss: 0.1979 - val_accuracy: 0.9352\n",
      "Epoch 7/10\n",
      "166/166 - 2s - loss: 0.1283 - accuracy: 0.9528 - val_loss: 0.2041 - val_accuracy: 0.9201\n",
      "Epoch 8/10\n",
      "166/166 - 2s - loss: 0.1198 - accuracy: 0.9563 - val_loss: 0.1686 - val_accuracy: 0.9374\n",
      "Epoch 9/10\n",
      "166/166 - 2s - loss: 0.1163 - accuracy: 0.9571 - val_loss: 0.1530 - val_accuracy: 0.9451\n",
      "Epoch 10/10\n",
      "166/166 - 2s - loss: 0.1038 - accuracy: 0.9620 - val_loss: 0.1410 - val_accuracy: 0.9490\n"
     ]
    },
    {
     "data": {
      "text/plain": [
       "<tensorflow.python.keras.callbacks.History at 0x1b7d09101f0>"
      ]
     },
     "execution_count": 16,
     "metadata": {},
     "output_type": "execute_result"
    }
   ],
   "source": [
    "model.fit(x = scaled_dfx, y = dfy,validation_split = 0.05,shuffle = True, batch_size = 1000, epochs= 10, verbose =  2)"
   ]
  },
  {
   "cell_type": "markdown",
   "metadata": {},
   "source": [
    "### Preparación de los datos para testear el modelo"
   ]
  },
  {
   "cell_type": "markdown",
   "metadata": {},
   "source": [
    "En el siguiente bloque se cargan los dataset de pruebas"
   ]
  },
  {
   "cell_type": "code",
   "execution_count": 17,
   "metadata": {},
   "outputs": [],
   "source": [
    "test1_i = pr.read_r('C:/Users/Alejandro/Desktop/4.2/TFG/myairbridge-UNJOFrwam/CRC1-4_a$/CRC1-4_a$intensity.rds')[None] \n",
    "test1_p = pr.read_r('C:/Users/Alejandro/Desktop/4.2/TFG/myairbridge-UNJOFrwam/CRC1-4_a$/CRC1-4_a$pos.rds')[None]\n",
    "test1_r = pr.read_r('C:/Users/Alejandro/Desktop/4.2/TFG/myairbridge-UNJOFrwam/CRC1-4_a$/CRC1-4_a$ROIs.rds')[None]\n",
    "\n",
    "# test1_i = pr.read_r('C:/Users/Alejandro/Desktop/4.2/TFG/myairbridge-UNJOFrwam/CRC11-b$/CRC11-b$intensity.rds') [None]\n",
    "# test1_p = pr.read_r('C:/Users/Alejandro/Desktop/4.2/TFG/myairbridge-UNJOFrwam/CRC11-b$/CRC11-b$pos.rds')[None]\n",
    "# ker = pr.read_r('C:/Users/Alejandro/Desktop/4.2/TFG/myairbridge-UNJOFrwam/CRC11-b$/CRC11-b$ROIs.rds')[None]\n",
    "# ker"
   ]
  },
  {
   "cell_type": "markdown",
   "metadata": {},
   "source": [
    "Se realiza el mismo procedimiento que con los datos anteriores, utilizando la funcion Categorical_to_numerical() y transformandolos en numpy arrays"
   ]
  },
  {
   "cell_type": "code",
   "execution_count": 18,
   "metadata": {},
   "outputs": [],
   "source": [
    "# test1_r.columns = ['ROIs']\n",
    "\n",
    "# ker = test1_r .merge(test1_i, right_index = True, left_index = True)\n",
    "\n",
    "# ker = ker[ker['ROIs']!= 'LG']\n",
    "# ker = ker[ker['ROIs']!= 'HG' ]\n",
    "# ker = ker[ker['ROIs']!= 'PI' ]\n",
    "# ker = ker[ker['ROIs']!= 'TorPI'] \n",
    "# ker = ker[ker['ROIs']!= 'TorHG' ]\n",
    "\n",
    "# nik = pd.DataFrame(ker['ROIs'])\n",
    "# opa = ker.drop('ROIs', 1)  \n",
    "# nik['Code'] = 0\n",
    "# Categorical_to_numerical(nik)             \n",
    "# nik"
   ]
  },
  {
   "cell_type": "code",
   "execution_count": 19,
   "metadata": {},
   "outputs": [
    {
     "data": {
      "text/html": [
       "<div>\n",
       "<style scoped>\n",
       "    .dataframe tbody tr th:only-of-type {\n",
       "        vertical-align: middle;\n",
       "    }\n",
       "\n",
       "    .dataframe tbody tr th {\n",
       "        vertical-align: top;\n",
       "    }\n",
       "\n",
       "    .dataframe thead th {\n",
       "        text-align: right;\n",
       "    }\n",
       "</style>\n",
       "<table border=\"1\" class=\"dataframe\">\n",
       "  <thead>\n",
       "    <tr style=\"text-align: right;\">\n",
       "      <th></th>\n",
       "      <th>ROIs</th>\n",
       "      <th>Code</th>\n",
       "    </tr>\n",
       "  </thead>\n",
       "  <tbody>\n",
       "    <tr>\n",
       "      <th>0</th>\n",
       "      <td>LG</td>\n",
       "      <td>1</td>\n",
       "    </tr>\n",
       "    <tr>\n",
       "      <th>1</th>\n",
       "      <td>LG</td>\n",
       "      <td>1</td>\n",
       "    </tr>\n",
       "    <tr>\n",
       "      <th>2</th>\n",
       "      <td>LG</td>\n",
       "      <td>1</td>\n",
       "    </tr>\n",
       "    <tr>\n",
       "      <th>3</th>\n",
       "      <td>LG</td>\n",
       "      <td>1</td>\n",
       "    </tr>\n",
       "    <tr>\n",
       "      <th>4</th>\n",
       "      <td>LG</td>\n",
       "      <td>1</td>\n",
       "    </tr>\n",
       "    <tr>\n",
       "      <th>...</th>\n",
       "      <td>...</td>\n",
       "      <td>...</td>\n",
       "    </tr>\n",
       "    <tr>\n",
       "      <th>5822</th>\n",
       "      <td>PI</td>\n",
       "      <td>3</td>\n",
       "    </tr>\n",
       "    <tr>\n",
       "      <th>5823</th>\n",
       "      <td>PI</td>\n",
       "      <td>3</td>\n",
       "    </tr>\n",
       "    <tr>\n",
       "      <th>5824</th>\n",
       "      <td>PI</td>\n",
       "      <td>3</td>\n",
       "    </tr>\n",
       "    <tr>\n",
       "      <th>5825</th>\n",
       "      <td>PI</td>\n",
       "      <td>3</td>\n",
       "    </tr>\n",
       "    <tr>\n",
       "      <th>5826</th>\n",
       "      <td>PI</td>\n",
       "      <td>3</td>\n",
       "    </tr>\n",
       "  </tbody>\n",
       "</table>\n",
       "<p>5827 rows × 2 columns</p>\n",
       "</div>"
      ],
      "text/plain": [
       "     ROIs  Code\n",
       "0      LG     1\n",
       "1      LG     1\n",
       "2      LG     1\n",
       "3      LG     1\n",
       "4      LG     1\n",
       "...   ...   ...\n",
       "5822   PI     3\n",
       "5823   PI     3\n",
       "5824   PI     3\n",
       "5825   PI     3\n",
       "5826   PI     3\n",
       "\n",
       "[5827 rows x 2 columns]"
      ]
     },
     "execution_count": 19,
     "metadata": {},
     "output_type": "execute_result"
    }
   ],
   "source": [
    "test1_r.columns = ['ROIs']\n",
    "test1_r['Code'] = 0\n",
    "Categorical_to_numerical(test1_r) \n",
    "test1_r"
   ]
  },
  {
   "cell_type": "code",
   "execution_count": 20,
   "metadata": {},
   "outputs": [],
   "source": [
    "# test2_r.columns = ['ROIs']\n",
    "# test2_r['Code'] = 0\n",
    "# Categorical_to_numerical(test2_r)"
   ]
  },
  {
   "cell_type": "markdown",
   "metadata": {},
   "source": [
    "Descomentar para visualizar los labels"
   ]
  },
  {
   "cell_type": "code",
   "execution_count": 21,
   "metadata": {},
   "outputs": [],
   "source": [
    "# ker, test2_r"
   ]
  },
  {
   "cell_type": "code",
   "execution_count": 22,
   "metadata": {},
   "outputs": [],
   "source": [
    "testx1 = np.array(test1_i)\n",
    "testy1 = np.array(test1_r['Code'])\n",
    "\n",
    "# testx2 = np.array(test2_i)\n",
    "# testy2 = np.array(test2_r['Code'])"
   ]
  },
  {
   "cell_type": "code",
   "execution_count": 23,
   "metadata": {},
   "outputs": [
    {
     "data": {
      "text/plain": [
       "array([1, 1, 1, ..., 3, 3, 3], dtype=int64)"
      ]
     },
     "execution_count": 23,
     "metadata": {},
     "output_type": "execute_result"
    }
   ],
   "source": [
    "testy1"
   ]
  },
  {
   "cell_type": "markdown",
   "metadata": {},
   "source": [
    "En este caso las posiciones seran mezcladas junto con los datos para que siempre exista una correlación entre ellos y posteriormente podamos determinar las prediciones de los pixeles cancerígenos y situarlos en sus respectivas posiciones"
   ]
  },
  {
   "cell_type": "code",
   "execution_count": 24,
   "metadata": {},
   "outputs": [],
   "source": [
    "testy1, testx1, positions_test1  = shuffle(testy1, testx1, test1_p) \n",
    "# testy2, testx2, positions_test2 = shuffle(testy2, testx2, test2_p)"
   ]
  },
  {
   "cell_type": "code",
   "execution_count": 25,
   "metadata": {},
   "outputs": [
    {
     "data": {
      "text/plain": [
       "(5827,)"
      ]
     },
     "execution_count": 25,
     "metadata": {},
     "output_type": "execute_result"
    }
   ],
   "source": [
    "testy1.shape"
   ]
  },
  {
   "cell_type": "code",
   "execution_count": 26,
   "metadata": {},
   "outputs": [],
   "source": [
    "scaled_testx1 = scaler.fit_transform(testx1)\n",
    "# scaled_testx2 = scaler.fit_transform(testx2)"
   ]
  },
  {
   "cell_type": "code",
   "execution_count": 27,
   "metadata": {},
   "outputs": [],
   "source": [
    "# scaled_testx1, scaled_testx2"
   ]
  },
  {
   "cell_type": "markdown",
   "metadata": {},
   "source": [
    "### Resultados de las predicciones"
   ]
  },
  {
   "cell_type": "code",
   "execution_count": 28,
   "metadata": {
    "scrolled": true
   },
   "outputs": [
    {
     "data": {
      "text/plain": [
       "array([[1.10947786e-10, 9.99955535e-01, 4.36770169e-11, ...,\n",
       "        8.17333166e-16, 3.26915288e-05, 1.17915424e-05],\n",
       "       [9.10763820e-09, 9.96356130e-01, 1.28419138e-03, ...,\n",
       "        3.04911041e-10, 2.72470152e-05, 2.33244873e-03],\n",
       "       [5.03504127e-10, 9.99987006e-01, 6.91696256e-09, ...,\n",
       "        4.66759118e-13, 9.45397971e-07, 1.19576935e-05],\n",
       "       ...,\n",
       "       [9.26225543e-01, 7.24198744e-02, 1.83751877e-06, ...,\n",
       "        1.67128225e-12, 8.50367670e-08, 1.35262730e-03],\n",
       "       [2.06899486e-07, 9.99989033e-01, 1.04767205e-05, ...,\n",
       "        1.25151614e-12, 5.81678672e-12, 2.61691779e-10],\n",
       "       [2.88884229e-15, 1.00000000e+00, 2.51379833e-15, ...,\n",
       "        8.02479012e-21, 5.06499736e-13, 8.22048374e-10]], dtype=float32)"
      ]
     },
     "execution_count": 28,
     "metadata": {},
     "output_type": "execute_result"
    }
   ],
   "source": [
    "predictions1 = model.predict(x = scaled_testx1, batch_size = 250, verbose = 0)\n",
    "# predictions2 = model.predict(x = scaled_testx2, batch_size = 250, verbose = 0)\n",
    "predictions1"
   ]
  },
  {
   "cell_type": "code",
   "execution_count": 29,
   "metadata": {},
   "outputs": [],
   "source": [
    "# predictions1, predictions2"
   ]
  },
  {
   "cell_type": "markdown",
   "metadata": {},
   "source": [
    "La función argmax devuelve un vector con la posicion de cada fila en la que estaba el numero más alto, con ello ya estarían creados los labels predictivos"
   ]
  },
  {
   "cell_type": "code",
   "execution_count": 30,
   "metadata": {
    "scrolled": true
   },
   "outputs": [
    {
     "data": {
      "text/plain": [
       "array([1, 1, 1, ..., 0, 1, 1], dtype=int64)"
      ]
     },
     "execution_count": 30,
     "metadata": {},
     "output_type": "execute_result"
    }
   ],
   "source": [
    "roundpred1 = np.argmax(predictions1, axis = -1)\n",
    "# roundpred2 = np.argmax(predictions2, axis = -1)\n",
    "roundpred1"
   ]
  },
  {
   "cell_type": "markdown",
   "metadata": {},
   "source": [
    "Es necesario contar el numero de pixeles cancerígenos y no cancerígenos en cada prueba para determinar el porcentaje en la celda de código que esta a continuación"
   ]
  },
  {
   "cell_type": "code",
   "execution_count": 31,
   "metadata": {},
   "outputs": [
    {
     "data": {
      "text/plain": [
       "(1753, 3266, 0, 808, 0, 0, 0)"
      ]
     },
     "execution_count": 31,
     "metadata": {},
     "output_type": "execute_result"
    }
   ],
   "source": [
    "n_n = 0\n",
    "n_lg = 0\n",
    "n_hg = 0\n",
    "n_pi = 0\n",
    "n_torpi = 0\n",
    "n_torhg = 0\n",
    "n_t = 0\n",
    "\n",
    "# n_nocancer_testy2 = 0\n",
    "# n_cancer_testy2 = 0\n",
    "\n",
    "for x in testy1:\n",
    "    if x == 0: n_n = n_n + 1\n",
    "    if x == 1: n_lg = n_lg + 1\n",
    "    if x == 2: n_hg = n_hg + 1\n",
    "    if x == 3: n_pi = n_pi + 1\n",
    "    if x == 4: n_torpi = n_torpi + 1\n",
    "    if x == 5: n_torhg = n_torhg + 1\n",
    "    if x == 6: n_t = n_t + 1\n",
    "        \n",
    "\n",
    "# for x in testy2:\n",
    "#     if x == 0: n_nocancer_testy2 = n_nocancer_testy2 + 1\n",
    "#     if x == 1: n_cancer_testy2 = n_cancer_testy2 + 1\n",
    "n_n, n_lg, n_hg, n_pi, n_torpi, n_torhg, n_t"
   ]
  },
  {
   "cell_type": "markdown",
   "metadata": {},
   "source": [
    "###### Predicciones en porcentaje"
   ]
  },
  {
   "cell_type": "code",
   "execution_count": 32,
   "metadata": {},
   "outputs": [
    {
     "name": "stdout",
     "output_type": "stream",
     "text": [
      "Porcentaje de pixeles de tejido normal acertados en la prueba 1: 5.647461494580718\n",
      "Porcentaje de pixeles de grado bajo acertados en la prueba 1: 98.74464176362522\n",
      "Porcentaje de pixeles PI en la prueba 1: 0.0\n"
     ]
    }
   ],
   "source": [
    "aciertosn = 0\n",
    "aciertoslg = 0\n",
    "aciertoshg = 0\n",
    "aciertospi = 0\n",
    "aciertospiort = 0\n",
    "aciertoshgort = 0\n",
    "aciertost = 0\n",
    "# aciertosc2 = 0\n",
    "# aciertosn2 = 0\n",
    "\n",
    "for x, y in zip(testy1, roundpred1):\n",
    "    if (x == 0) & (y == 0): aciertosn = aciertosn + 1\n",
    "    if (x == 1) & (y == 1): aciertoslg= aciertoslg + 1\n",
    "#     if (x == 2) & (y == 2): aciertoshg = aciertoshg + 1\n",
    "    if (x == 3) & (y == 3): aciertospi = aciertospi + 1\n",
    "#     if (x == 4) & (y == 4): aciertospiort = aciertospiort + 1\n",
    "#     if (x == 5) & (y == 5): aciertoshgort = aciertoshgort + 1\n",
    "#     if (x == 6) & (y == 6): aciertost = aciertost + 1\n",
    "        \n",
    "\n",
    "\n",
    "porcentaje_n =(aciertosn*100)/ n_n\n",
    "porcentaje_lg =(aciertoslg*100)/ n_lg\n",
    "# porcentaje_hg =(aciertoshg*100)/ n_hg\n",
    "porcentaje_pi =(aciertospi*100)/ n_pi\n",
    "# porcentaje_torhg =(aciertoshgort*100)/ n_torhg\n",
    "# porcentaje_torpi =(aciertospiort*100)/ n_torpi\n",
    "# porcentaje_t = (aciertost*100)/n_t\n",
    "# porcentaje_normal2 =(aciertosn2*100)/ (len(testy2)-n_cancer_testy2)\n",
    "# porcentaje_cancer2 =(aciertosc2*100)/ (len(testy2)-n_nocancer_testy2)\n",
    "\n",
    "print('Porcentaje de pixeles de tejido normal acertados en la prueba 1:',porcentaje_n)\n",
    "print('Porcentaje de pixeles de grado bajo acertados en la prueba 1:', porcentaje_lg)\n",
    "# print('Porcentaje de pixeles grado alto acertados en la prueba 1:', porcentaje_hg)\n",
    "# print('Porcentaje de pixeles de TorHG en la prueba 1:', porcentaje_torhg)\n",
    "print('Porcentaje de pixeles PI en la prueba 1:', porcentaje_pi)\n",
    "# print('Porcentaje de pixeles de TorPI en la prueba 1:', porcentaje_torpi)\n",
    "# print('Porcentaje de pixeles de T acertados en la prueba 1:', porcentaje_t)\n",
    "# print( aciertosn,aciertoslg,aciertoshg,aciertospi,aciertospiort,aciertoshgort,aciertost )\n",
    "# print('Porcentaje de pixeles cancerígenos acertados en la prueba 1:', porcentaje_t)"
   ]
  },
  {
   "cell_type": "markdown",
   "metadata": {},
   "source": [
    "###### Curva ROC"
   ]
  },
  {
   "cell_type": "markdown",
   "metadata": {},
   "source": [
    "Determinación de la tasa de verdaderos positivos y tasa de falsos positivos a partir de una curva ROC para ambas pruebas."
   ]
  },
  {
   "cell_type": "code",
   "execution_count": 33,
   "metadata": {},
   "outputs": [],
   "source": [
    "# from sklearn.metrics import roc_curve\n",
    "# from sklearn.metrics import roc_auc_score\n",
    "# from matplotlib import pyplot"
   ]
  },
  {
   "cell_type": "code",
   "execution_count": 34,
   "metadata": {},
   "outputs": [],
   "source": [
    "# ns_probs = [0 for _ in range(len(testy1))] \n",
    "# pred1 = predictions1[:, 1]\n",
    "# pred2 = predictions2[:, 1]"
   ]
  },
  {
   "cell_type": "code",
   "execution_count": 35,
   "metadata": {},
   "outputs": [],
   "source": [
    "# fpr1, tpr1, thresh1 = metrics.roc_curve(testy1, pred1)\n",
    "# fpr2, tpr2, thresh2 = metrics.roc_curve(testy2, pred2)"
   ]
  },
  {
   "cell_type": "code",
   "execution_count": 36,
   "metadata": {
    "scrolled": true
   },
   "outputs": [],
   "source": [
    "# pyplot.plot(fpr1, tpr1, marker='.', label='Regresión Logística')\n",
    "\n",
    "# pyplot.xlabel('Tasa de Falsos Positivos')\n",
    "# pyplot.ylabel('Tasa de Verdaderos Positivos')\n",
    "# pyplot.legend()\n",
    "# pyplot.title('Curva ROC')\n",
    "# pyplot.show()"
   ]
  },
  {
   "cell_type": "code",
   "execution_count": 37,
   "metadata": {
    "scrolled": false
   },
   "outputs": [],
   "source": [
    "# pyplot.plot(fpr2, tpr2, marker='.', label='Regresión Logística')\n",
    "# \n",
    "# pyplot.xlabel('Tasa de Falsos Positivos')\n",
    "# pyplot.ylabel('Tasa de Verdaderos Positivos')\n",
    "# pyplot.legend()\n",
    "# pyplot.title('Curva ROC Prueba 2')\n",
    "# pyplot.show()"
   ]
  },
  {
   "cell_type": "markdown",
   "metadata": {},
   "source": [
    "### Resultados finales \n"
   ]
  },
  {
   "cell_type": "markdown",
   "metadata": {},
   "source": [
    "Comparacion de la muestra original y la muestra basada en las predicciones de la red neuronal"
   ]
  },
  {
   "cell_type": "markdown",
   "metadata": {},
   "source": [
    "###### Prueba 1\n"
   ]
  },
  {
   "cell_type": "code",
   "execution_count": 38,
   "metadata": {
    "scrolled": true
   },
   "outputs": [],
   "source": [
    "import matplotlib.pyplot as plt\n",
    "%matplotlib inline\n",
    "import numpy as np\n",
    "plt.rcParams['image.cmap'] = 'Blues'"
   ]
  },
  {
   "cell_type": "code",
   "execution_count": 39,
   "metadata": {},
   "outputs": [
    {
     "data": {
      "text/plain": [
       "(85, 149)"
      ]
     },
     "execution_count": 39,
     "metadata": {},
     "output_type": "execute_result"
    }
   ],
   "source": [
    "positions_test1['x'].max(), positions_test1['y'].max()"
   ]
  },
  {
   "cell_type": "code",
   "execution_count": 40,
   "metadata": {
    "scrolled": false
   },
   "outputs": [],
   "source": [
    "\n",
    "count = 0;\n",
    "postest1 = positions_test1\n",
    "imagen_true1 = np.zeros((194,261))\n",
    "imagen_pred1 = np.zeros((194,261))\n",
    "for i,j,k,d in zip(postest1['x'], postest1['y'],testy1, roundpred1):\n",
    "    if k == 0: imagen_true1[j,i] = 0.15\n",
    "    if k == 1: imagen_true1[j,i] = 0.30\n",
    "    if k == 2: imagen_true1[j,i] = 0.45\n",
    "    if k == 3: imagen_true1[j,i] = 0.60\n",
    "    if k == 4: imagen_true1[j,i] = 0.75\n",
    "    if k == 4: imagen_true1[j,i] = 0.90\n",
    "    if k == 6: imagen_true1[j,i] = 1\n",
    "#     \n",
    "#    \n",
    "    if d == 0: imagen_pred1[j,i] = 0.20\n",
    "    if d == 1: imagen_pred1[j,i] = 0.40\n",
    "    if d == 2: imagen_pred1[j,i] = 0.60\n",
    "    if d == 3: imagen_pred1[j,i] = 0.80\n",
    "#     if d == 4: imagen_pred1[j,i] = 1\n",
    "    if d == 6: imagen_pred1[j,i] = 1\n",
    "# \n"
   ]
  },
  {
   "cell_type": "code",
   "execution_count": 41,
   "metadata": {},
   "outputs": [],
   "source": [
    "# count = 0;\n",
    "# postest1 = positions_test1\n",
    "# imagen_true1 = np.zeros((166,215))\n",
    "# imagen_pred1 = np.zeros((166,215))\n",
    "# for i,j,k,d in zip(postest1['x'], postest1['y'],testy1, pred1):\n",
    "#     if k == 0: imagen_true1[j,i] = 0.50\n",
    "#     if k == 1: imagen_true1[j,i] = 1\n",
    "#     if k == 2: imagen_true1[j,i] = 0.60\n",
    "#     if k == 3: imagen_true1[j,i] = 0.80\n",
    "#     if k == 4: imagen_true1[j,i] = 1\n",
    "#     if k == 6: imagen_true1[j,i] = 1\n",
    "#     imagen_pred1[j,i] = d\n",
    "   \n"
   ]
  },
  {
   "cell_type": "code",
   "execution_count": 42,
   "metadata": {
    "scrolled": true
   },
   "outputs": [
    {
     "data": {
      "text/plain": [
       "<matplotlib.image.AxesImage at 0x1b7d2154a30>"
      ]
     },
     "execution_count": 42,
     "metadata": {},
     "output_type": "execute_result"
    },
    {
     "data": {
      "image/png": "[encoded data removed]",
      "text/plain": [
       "<Figure size 432x288 with 1 Axes>"
      ]
     },
     "metadata": {
      "needs_background": "light"
     },
     "output_type": "display_data"
    }
   ],
   "source": [
    "plt.title('Muestra original 1')\n",
    "plt.imshow(imagen_true1,vmin=0,vmax=1)"
   ]
  },
  {
   "cell_type": "code",
   "execution_count": 43,
   "metadata": {},
   "outputs": [
    {
     "data": {
      "text/plain": [
       "<matplotlib.image.AxesImage at 0x1b7d1e72670>"
      ]
     },
     "execution_count": 43,
     "metadata": {},
     "output_type": "execute_result"
    },
    {
     "data": {
      "image/png": "[encoded data removed]",
      "text/plain": [
       "<Figure size 432x288 with 1 Axes>"
      ]
     },
     "metadata": {
      "needs_background": "light"
     },
     "output_type": "display_data"
    }
   ],
   "source": [
    "plt.title('Muestra predictiva')\n",
    "plt.imshow(imagen_pred1,vmin=0,vmax=1)"
   ]
  },
  {
   "cell_type": "markdown",
   "metadata": {},
   "source": [
    "###### Prueba 2\n"
   ]
  },
  {
   "cell_type": "code",
   "execution_count": 44,
   "metadata": {},
   "outputs": [],
   "source": [
    "# positions_test2['x'].max(), positions_test2['y'].max()"
   ]
  },
  {
   "cell_type": "code",
   "execution_count": 45,
   "metadata": {},
   "outputs": [],
   "source": [
    "# count = 0;\n",
    "# postest2 = positions_test2\n",
    "# imagen_true2 = np.zeros((198, 199))\n",
    "# imagen_pred2 = np.zeros((198, 199))\n",
    "# for i,j,k,d in zip(postest2['x'], postest2['y'],testy2, roundpred2):\n",
    "#     if k == 0: imagen_true2[j,i] = 0.5\n",
    "#     if k == 1: imagen_true2[j,i] = 1\n",
    "#     if d == 0: imagen_pred2[j,i] = 0.5\n",
    "#     if d == 1: imagen_pred2[j,i] = 1\n"
   ]
  },
  {
   "cell_type": "code",
   "execution_count": 46,
   "metadata": {
    "scrolled": false
   },
   "outputs": [],
   "source": [
    "# plt.title('Muestra original 2')\n",
    "# plt.imshow(imagen_true2,vmin=0,vmax=1)"
   ]
  },
  {
   "cell_type": "code",
   "execution_count": 47,
   "metadata": {},
   "outputs": [],
   "source": [
    "# plt.title('Muestra predictiva 2')\n",
    "# plt.imshow(imagen_pred2,vmin=0,vmax=1)"
   ]
  }
 ],
 "metadata": {
  "kernelspec": {
   "display_name": "Python 3",
   "language": "python",
   "name": "python3"
  },
  "language_info": {
   "codemirror_mode": {
    "name": "ipython",
    "version": 3
   },
   "file_extension": ".py",
   "mimetype": "text/x-python",
   "name": "python",
   "nbconvert_exporter": "python",
   "pygments_lexer": "ipython3",
   "version": "3.8.5"
  }
 },
 "nbformat": 4,
 "nbformat_minor": 4
}
